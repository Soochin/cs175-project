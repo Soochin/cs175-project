{
  "nbformat": 4,
  "nbformat_minor": 0,
  "metadata": {
    "colab": {
      "name": "project.ipynb",
      "version": "0.3.2",
      "provenance": [],
      "collapsed_sections": [],
      "include_colab_link": true
    },
    "kernelspec": {
      "name": "python3",
      "display_name": "Python 3"
    },
    "accelerator": "GPU"
  },
  "cells": [
    {
      "cell_type": "markdown",
      "metadata": {
        "id": "view-in-github",
        "colab_type": "text"
      },
      "source": [
        "<a href=\"https://colab.research.google.com/github/Soochin/cs175-project/blob/master/notebooks/project.ipynb\" target=\"_parent\"><img src=\"https://colab.research.google.com/assets/colab-badge.svg\" alt=\"Open In Colab\"/></a>"
      ]
    },
    {
      "metadata": {
        "id": "EjdslF562dBK",
        "colab_type": "code",
        "outputId": "c409dc71-95e6-40bc-9020-d98ba6b9acdc",
        "colab": {
          "base_uri": "https://localhost:8080/",
          "height": 51
        }
      },
      "cell_type": "code",
      "source": [
        "from google.colab import drive\n",
        "drive.mount('/content/drive')\n",
        "%cd /content/drive/My\\ Drive/Final Project"
      ],
      "execution_count": 0,
      "outputs": [
        {
          "output_type": "stream",
          "text": [
            "Drive already mounted at /content/drive; to attempt to forcibly remount, call drive.mount(\"/content/drive\", force_remount=True).\n",
            "/content/drive/My Drive/Final Project\n"
          ],
          "name": "stdout"
        }
      ]
    },
    {
      "metadata": {
        "id": "2OrmMfVa3ErT",
        "colab_type": "code",
        "colab": {}
      },
      "cell_type": "code",
      "source": [
        "import torch\n",
        "import torch.nn as nn\n",
        "import torch.optim as optim\n",
        "from torch.autograd import Variable\n",
        "from torch.utils.data import Dataset\n",
        "from torch.utils.data import DataLoader\n",
        "from torch.utils.data import sampler\n",
        "\n",
        "import torchvision.datasets as dset\n",
        "import torchvision.transforms as T\n",
        "\n",
        "import dill\n",
        "import numpy as np\n",
        "import io\n",
        "import os\n",
        "import timeit\n",
        "import random\n",
        "from PIL import Image\n",
        "\n",
        "import matplotlib.pyplot as plt\n",
        "%matplotlib inline"
      ],
      "execution_count": 0,
      "outputs": []
    },
    {
      "metadata": {
        "id": "wgTHVFLkDLUr",
        "colab_type": "text"
      },
      "cell_type": "markdown",
      "source": [
        "## Dataset Loading"
      ]
    },
    {
      "metadata": {
        "id": "tjvChaQr3EzU",
        "colab_type": "code",
        "colab": {}
      },
      "cell_type": "code",
      "source": [
        "class HandClassifyDataset(torch.utils.data.Dataset):\n",
        "  def __init__(self, rootdir):\n",
        "    self.rootdir = rootdir\n",
        "    self.handsdir = self.rootdir+'hands_dataset_t_128/'\n",
        "    self.nohandsdir = self.rootdir+'nohands_dataset_t_128/'\n",
        "    self.handIms = []\n",
        "    self.nohandIms = []\n",
        "    i = 0\n",
        "    for batch in os.listdir(self.handsdir):\n",
        "      if \"batch\" in batch:\n",
        "        t = torch.load(self.handsdir+batch)\n",
        "        print(t.size())\n",
        "        self.handIms.append(t)\n",
        "        print('Batch done')\n",
        "    self.handIms = torch.cat(self.handIms, 0)\n",
        "    print(self.handIms.size())\n",
        "    for batch in os.listdir(self.nohandsdir):\n",
        "      if \"batch\" in batch:\n",
        "        t = torch.load(self.nohandsdir+batch)\n",
        "        print(t.size())\n",
        "        self.nohandIms.append(t)\n",
        "        print('Batch done')\n",
        "    self.nohandIms = torch.cat(self.nohandIms, 0)\n",
        "    print(self.nohandIms.size())\n",
        "    self.ind = [x for x in range(self.handIms.size()[0]+ self.nohandIms.size()[0])]\n",
        "    random.shuffle(self.ind)\n",
        "    \n",
        "  def __len__(self):\n",
        "    return self.handIms.size()[0]+self.nohandIms.size()[0]\n",
        "  \n",
        "  def __getitem__(self, idx):\n",
        "    idx = self.ind[idx]\n",
        "    if idx < self.handIms.size()[0]:\n",
        "      sample = (self.handIms[idx,:,:,:], 1)\n",
        "      return sample\n",
        "    elif idx < self.handIms.size()[0] + self.nohandIms.size()[0]:\n",
        "      idx = idx-self.handIms.size()[0]\n",
        "      sample = (self.nohandIms[idx,:,:,:], 0)\n",
        "      #print(handBoxes[handFiles[idx]].size())\n",
        "      return sample\n",
        "    else:\n",
        "      raise IndexError"
      ],
      "execution_count": 0,
      "outputs": []
    },
    {
      "metadata": {
        "id": "GVy3oJO_3E1o",
        "colab_type": "code",
        "outputId": "d85ddce2-d904-4550-8f15-f1109856afd7",
        "colab": {
          "base_uri": "https://localhost:8080/",
          "height": 391
        }
      },
      "cell_type": "code",
      "source": [
        "hands_dataset = HandClassifyDataset(rootdir='./data/')"
      ],
      "execution_count": 0,
      "outputs": [
        {
          "output_type": "stream",
          "text": [
            "torch.Size([1000, 3, 128, 128])\n",
            "Batch done\n",
            "torch.Size([1000, 3, 128, 128])\n",
            "Batch done\n",
            "torch.Size([1000, 3, 128, 128])\n",
            "Batch done\n",
            "torch.Size([1000, 3, 128, 128])\n",
            "Batch done\n",
            "torch.Size([49, 3, 128, 128])\n",
            "Batch done\n",
            "torch.Size([4049, 3, 128, 128])\n",
            "torch.Size([1000, 3, 128, 128])\n",
            "Batch done\n",
            "torch.Size([1000, 3, 128, 128])\n",
            "Batch done\n",
            "torch.Size([1000, 3, 128, 128])\n",
            "Batch done\n",
            "torch.Size([1000, 3, 128, 128])\n",
            "Batch done\n",
            "torch.Size([219, 3, 128, 128])\n",
            "Batch done\n",
            "torch.Size([4219, 3, 128, 128])\n"
          ],
          "name": "stdout"
        }
      ]
    },
    {
      "metadata": {
        "id": "LL7yT6IUDVXh",
        "colab_type": "text"
      },
      "cell_type": "markdown",
      "source": [
        "## Split Data to Train/Validation/Testing"
      ]
    },
    {
      "metadata": {
        "id": "xD6OmxKC3E37",
        "colab_type": "code",
        "colab": {}
      },
      "cell_type": "code",
      "source": [
        "class ChunkSampler(sampler.Sampler):\n",
        "    \"\"\"Samples elements sequentially from some offset. \n",
        "    Arguments:\n",
        "        num_samples: # of desired datapoints\n",
        "        start: offset where we should start selecting from\n",
        "    \"\"\"\n",
        "    def __init__(self, num_samples, start = 0):\n",
        "        self.num_samples = num_samples\n",
        "        self.start = start\n",
        "\n",
        "    def __iter__(self):\n",
        "        return iter(range(self.start, self.start + self.num_samples))\n",
        "\n",
        "    def __len__(self):\n",
        "        return self.num_samples\n",
        "hands_dataset_size = len(hands_dataset)\n",
        "NUM_VAL = int(np.ceil(0.12*hands_dataset_size))\n",
        "NUM_TEST = int(np.ceil(0.13*hands_dataset_size))\n",
        "NUM_TRAIN = len(hands_dataset)-NUM_VAL-NUM_TEST"
      ],
      "execution_count": 0,
      "outputs": []
    },
    {
      "metadata": {
        "id": "5G3RFVwl3E6H",
        "colab_type": "code",
        "colab": {}
      },
      "cell_type": "code",
      "source": [
        "train_loader = torch.utils.data.DataLoader(hands_dataset, batch_size=64, num_workers=4, sampler=ChunkSampler(NUM_TRAIN, 0))\n",
        "val_loader = torch.utils.data.DataLoader(hands_dataset, batch_size=64, num_workers=4, sampler=ChunkSampler(NUM_VAL, NUM_TRAIN))\n",
        "test_loader = torch.utils.data.DataLoader(hands_dataset, batch_size=64, num_workers=4, sampler=ChunkSampler(NUM_TEST, NUM_TRAIN+NUM_VAL))"
      ],
      "execution_count": 0,
      "outputs": []
    },
    {
      "metadata": {
        "id": "vy8B5EbU9mjm",
        "colab_type": "text"
      },
      "cell_type": "markdown",
      "source": [
        "## Check GPU Availability"
      ]
    },
    {
      "metadata": {
        "id": "OwBJtEQX9rAs",
        "colab_type": "code",
        "outputId": "770e9939-766a-440a-b5b4-eddc2577c137",
        "colab": {
          "base_uri": "https://localhost:8080/",
          "height": 34
        }
      },
      "cell_type": "code",
      "source": [
        "device = torch.device('cuda:0' if torch.cuda.is_available() else 'cpu')\n",
        "print(device)"
      ],
      "execution_count": 0,
      "outputs": [
        {
          "output_type": "stream",
          "text": [
            "cuda:0\n"
          ],
          "name": "stdout"
        }
      ]
    },
    {
      "metadata": {
        "id": "0KSkPgA69bzR",
        "colab_type": "text"
      },
      "cell_type": "markdown",
      "source": [
        "## Hyper Parameters"
      ]
    },
    {
      "metadata": {
        "id": "fiiEnosx9aZA",
        "colab_type": "code",
        "colab": {}
      },
      "cell_type": "code",
      "source": [
        "num_epochs = 15\n",
        "num_classes = 2\n",
        "batch_size = 100\n",
        "learning_rate = 1e-3"
      ],
      "execution_count": 0,
      "outputs": []
    },
    {
      "metadata": {
        "id": "g-Qf-CES3E8G",
        "colab_type": "code",
        "colab": {}
      },
      "cell_type": "code",
      "source": [
        "# Convolutional neural network (two convolutional layers)\n",
        "class ConvNet(nn.Module):\n",
        "    def __init__(self, num_classes=10):\n",
        "        super(ConvNet, self).__init__()\n",
        "        self.layer1 = nn.Sequential(\n",
        "            nn.Conv2d(3, 16, kernel_size=5, stride=1, padding=2),\n",
        "            nn.BatchNorm2d(16),\n",
        "            nn.ReLU(),\n",
        "            nn.MaxPool2d(kernel_size=2, stride=2))\n",
        "        self.layer2 = nn.Sequential(\n",
        "            nn.Conv2d(16, 32, kernel_size=5, stride=1, padding=2),\n",
        "            nn.BatchNorm2d(32),\n",
        "            nn.ReLU(),\n",
        "            nn.MaxPool2d(kernel_size=2, stride=2))\n",
        "        self.layer3 = nn.Sequential(\n",
        "            nn.Conv2d(32, 64, kernel_size=3, stride=1, padding=2),\n",
        "            nn.BatchNorm2d(64),\n",
        "            nn.ReLU(),\n",
        "            nn.MaxPool2d(kernel_size=2, stride=2))\n",
        "        self.fc = nn.Linear(32768, num_classes)\n",
        "        \n",
        "    def forward(self, x):\n",
        "        out = self.layer1(x)\n",
        "        out = self.layer2(out)\n",
        "        out = out.reshape(out.size(0), -1)\n",
        "        out = self.fc(out)\n",
        "        return out\n",
        "\n",
        "model = ConvNet(num_classes).to(device)\n",
        "\n",
        "# Loss and optimizer\n",
        "criterion = nn.CrossEntropyLoss()\n",
        "optimizer = torch.optim.Adam(model.parameters(), lr=learning_rate)"
      ],
      "execution_count": 0,
      "outputs": []
    },
    {
      "metadata": {
        "id": "K68eeuJ83E-P",
        "colab_type": "code",
        "outputId": "a556650c-8e58-4334-f064-9f95ff9ebfda",
        "colab": {
          "base_uri": "https://localhost:8080/",
          "height": 374
        }
      },
      "cell_type": "code",
      "source": [
        "print(model)"
      ],
      "execution_count": 0,
      "outputs": [
        {
          "output_type": "stream",
          "text": [
            "ConvNet(\n",
            "  (layer1): Sequential(\n",
            "    (0): Conv2d(3, 16, kernel_size=(5, 5), stride=(1, 1), padding=(2, 2))\n",
            "    (1): BatchNorm2d(16, eps=1e-05, momentum=0.1, affine=True, track_running_stats=True)\n",
            "    (2): ReLU()\n",
            "    (3): MaxPool2d(kernel_size=2, stride=2, padding=0, dilation=1, ceil_mode=False)\n",
            "  )\n",
            "  (layer2): Sequential(\n",
            "    (0): Conv2d(16, 32, kernel_size=(5, 5), stride=(1, 1), padding=(2, 2))\n",
            "    (1): BatchNorm2d(32, eps=1e-05, momentum=0.1, affine=True, track_running_stats=True)\n",
            "    (2): ReLU()\n",
            "    (3): MaxPool2d(kernel_size=2, stride=2, padding=0, dilation=1, ceil_mode=False)\n",
            "  )\n",
            "  (layer3): Sequential(\n",
            "    (0): Conv2d(32, 64, kernel_size=(3, 3), stride=(1, 1), padding=(2, 2))\n",
            "    (1): BatchNorm2d(64, eps=1e-05, momentum=0.1, affine=True, track_running_stats=True)\n",
            "    (2): ReLU()\n",
            "    (3): MaxPool2d(kernel_size=2, stride=2, padding=0, dilation=1, ceil_mode=False)\n",
            "  )\n",
            "  (fc): Linear(in_features=32768, out_features=2, bias=True)\n",
            ")\n"
          ],
          "name": "stdout"
        }
      ]
    },
    {
      "metadata": {
        "id": "dHydrYFz3FAH",
        "colab_type": "code",
        "outputId": "1610546f-1cae-413c-8ade-6abf1fe4fbf1",
        "colab": {
          "base_uri": "https://localhost:8080/",
          "height": 1037
        }
      },
      "cell_type": "code",
      "source": [
        "train_loss = list()\n",
        "valid_loss = list()\n",
        "models = list()\n",
        "\n",
        "loss_tr = 0\n",
        "\n",
        "total_step = len(train_loader)\n",
        "for epoch in range(num_epochs):\n",
        "    model.train() # train mode\n",
        "    for i, (images, labels) in enumerate(train_loader):\n",
        "        images = images.to(device)\n",
        "        labels = labels.to(device)\n",
        "        \n",
        "        # Forward pass\n",
        "        outputs = model(images)\n",
        "        loss_tr = criterion(outputs, labels)\n",
        "        \n",
        "        # Backward and optimize\n",
        "        optimizer.zero_grad()\n",
        "        loss_tr.backward()\n",
        "        optimizer.step()\n",
        "        \n",
        "        if (i+1) % 30 == 0:\n",
        "            print ('Epoch [{}/{}], Step [{}/{}], Loss: {:.4f}' \n",
        "                   .format(epoch+1, num_epochs, i+1, total_step, loss_tr.item()))\n",
        "    model.eval()  # eval mode (batchnorm uses moving mean/variance instead of mini-batch mean/variance)\n",
        "    with torch.no_grad():\n",
        "        correct = 0\n",
        "        total = 0\n",
        "        for images, labels in val_loader:\n",
        "            images = images.to(device)\n",
        "            labels = labels.to(device)\n",
        "            outputs = model(images)\n",
        "            _, predicted = torch.max(outputs.data, 1)\n",
        "            total += labels.size(0)\n",
        "            correct += (predicted == labels).sum().item()\n",
        "\n",
        "        print('Validation Accuracy of the model on the {} validation images: {} %'.format(total, 100 * correct / total))\n",
        "            \n",
        "    train_loss.append(loss_tr.item())\n",
        "    valid_loss.append(1 - (correct / total))\n",
        "    models.append(model.state_dict())"
      ],
      "execution_count": 0,
      "outputs": [
        {
          "output_type": "stream",
          "text": [
            "Epoch [1/15], Step [30/97], Loss: 0.7571\n",
            "Epoch [1/15], Step [60/97], Loss: 0.9905\n",
            "Epoch [1/15], Step [90/97], Loss: 0.5564\n",
            "Validation Accuracy of the model on the 993 validation images: 69.78851963746223 %\n",
            "Epoch [2/15], Step [30/97], Loss: 0.4957\n",
            "Epoch [2/15], Step [60/97], Loss: 0.6349\n",
            "Epoch [2/15], Step [90/97], Loss: 0.4245\n",
            "Validation Accuracy of the model on the 993 validation images: 64.14904330312186 %\n",
            "Epoch [3/15], Step [30/97], Loss: 0.4867\n",
            "Epoch [3/15], Step [60/97], Loss: 0.4914\n",
            "Epoch [3/15], Step [90/97], Loss: 0.3677\n",
            "Validation Accuracy of the model on the 993 validation images: 59.01309164149043 %\n",
            "Epoch [4/15], Step [30/97], Loss: 0.4657\n",
            "Epoch [4/15], Step [60/97], Loss: 0.3065\n",
            "Epoch [4/15], Step [90/97], Loss: 0.2369\n",
            "Validation Accuracy of the model on the 993 validation images: 68.37865055387714 %\n",
            "Epoch [5/15], Step [30/97], Loss: 0.3165\n",
            "Epoch [5/15], Step [60/97], Loss: 0.1726\n",
            "Epoch [5/15], Step [90/97], Loss: 0.1815\n",
            "Validation Accuracy of the model on the 993 validation images: 64.8539778449144 %\n",
            "Epoch [6/15], Step [30/97], Loss: 0.1613\n",
            "Epoch [6/15], Step [60/97], Loss: 0.1209\n",
            "Epoch [6/15], Step [90/97], Loss: 0.2259\n",
            "Validation Accuracy of the model on the 993 validation images: 90.5337361530715 %\n",
            "Epoch [7/15], Step [30/97], Loss: 0.1851\n",
            "Epoch [7/15], Step [60/97], Loss: 0.0712\n",
            "Epoch [7/15], Step [90/97], Loss: 0.0846\n",
            "Validation Accuracy of the model on the 993 validation images: 83.7865055387714 %\n",
            "Epoch [8/15], Step [30/97], Loss: 0.1067\n",
            "Epoch [8/15], Step [60/97], Loss: 0.0753\n",
            "Epoch [8/15], Step [90/97], Loss: 0.0506\n",
            "Validation Accuracy of the model on the 993 validation images: 88.21752265861028 %\n",
            "Epoch [9/15], Step [30/97], Loss: 0.1136\n",
            "Epoch [9/15], Step [60/97], Loss: 0.0526\n",
            "Epoch [9/15], Step [90/97], Loss: 0.0679\n",
            "Validation Accuracy of the model on the 993 validation images: 59.919436052366564 %\n",
            "Epoch [10/15], Step [30/97], Loss: 0.1139\n",
            "Epoch [10/15], Step [60/97], Loss: 0.0344\n",
            "Epoch [10/15], Step [90/97], Loss: 0.0860\n",
            "Validation Accuracy of the model on the 993 validation images: 74.72306143001008 %\n",
            "Epoch [11/15], Step [30/97], Loss: 0.1204\n",
            "Epoch [11/15], Step [60/97], Loss: 0.0231\n",
            "Epoch [11/15], Step [90/97], Loss: 0.0847\n",
            "Validation Accuracy of the model on the 993 validation images: 92.34642497482376 %\n",
            "Epoch [12/15], Step [30/97], Loss: 0.0983\n",
            "Epoch [12/15], Step [60/97], Loss: 0.0845\n",
            "Epoch [12/15], Step [90/97], Loss: 0.1028\n",
            "Validation Accuracy of the model on the 993 validation images: 80.56394763343404 %\n",
            "Epoch [13/15], Step [30/97], Loss: 0.1475\n",
            "Epoch [13/15], Step [60/97], Loss: 0.1150\n",
            "Epoch [13/15], Step [90/97], Loss: 0.1149\n",
            "Validation Accuracy of the model on the 993 validation images: 91.74219536757302 %\n",
            "Epoch [14/15], Step [30/97], Loss: 0.0546\n",
            "Epoch [14/15], Step [60/97], Loss: 0.0382\n",
            "Epoch [14/15], Step [90/97], Loss: 0.1252\n",
            "Validation Accuracy of the model on the 993 validation images: 75.32729103726082 %\n",
            "Epoch [15/15], Step [30/97], Loss: 0.2280\n",
            "Epoch [15/15], Step [60/97], Loss: 0.0258\n",
            "Epoch [15/15], Step [90/97], Loss: 0.0625\n",
            "Validation Accuracy of the model on the 993 validation images: 96.07250755287009 %\n"
          ],
          "name": "stdout"
        }
      ]
    },
    {
      "metadata": {
        "id": "kZKcXy51L-01",
        "colab_type": "code",
        "outputId": "d6127f48-f720-4e66-c9ca-b2a41fdc7bd6",
        "colab": {
          "base_uri": "https://localhost:8080/",
          "height": 265
        }
      },
      "cell_type": "code",
      "source": [
        "fig, ax = plt.subplots(1, 1, figsize=(5, 4))\n",
        "\n",
        "x = range(0, len(train_loss))\n",
        "\n",
        "ax.plot(x, train_loss, 'r-', lw=3, label='Training')\n",
        "ax.plot(x, valid_loss, 'g-', lw=3, label='Validation')\n",
        "ax.legend()\n",
        "\n",
        "plt.show()"
      ],
      "execution_count": 0,
      "outputs": [
        {
          "output_type": "display_data",
          "data": {
            "image/png": "[encoded data removed]",
            "text/plain": [
              "<Figure size 360x288 with 1 Axes>"
            ]
          },
          "metadata": {
            "tags": []
          }
        }
      ]
    },
    {
      "metadata": {
        "id": "j08dL8pBBjL3",
        "colab_type": "code",
        "outputId": "326c6d35-6c54-47ef-8dd8-883cab933f5c",
        "colab": {
          "base_uri": "https://localhost:8080/",
          "height": 34
        }
      },
      "cell_type": "code",
      "source": [
        "best_model_index = np.argmin(valid_loss)\n",
        "best_state_dict = models[best_model_index]\n",
        "model.load_state_dict(best_state_dict)\n",
        "\n",
        "# Test the model\n",
        "model.eval()  # eval mode (batchnorm uses moving mean/variance instead of mini-batch mean/variance)\n",
        "with torch.no_grad():\n",
        "    correct = 0\n",
        "    total = 0\n",
        "    for images, labels in test_loader:\n",
        "        images = images.to(device)\n",
        "        labels = labels.to(device)\n",
        "        outputs = model(images)\n",
        "        _, predicted = torch.max(outputs.data, 1)\n",
        "        total += labels.size(0)\n",
        "        correct += (predicted == labels).sum().item()\n",
        "\n",
        "    print('Test Accuracy of the model on the {} test images: {} %'.format(total, 100 * correct / total))"
      ],
      "execution_count": 0,
      "outputs": [
        {
          "output_type": "stream",
          "text": [
            "Test Accuracy of the model on the 1075 test images: 95.53488372093024 %\n"
          ],
          "name": "stdout"
        }
      ]
    },
    {
      "metadata": {
        "id": "rxs2CMtEKAbR",
        "colab_type": "code",
        "colab": {}
      },
      "cell_type": "code",
      "source": [
        "torch.save(model.state_dict(), 'model.ckpt')"
      ],
      "execution_count": 0,
      "outputs": []
    }
  ]
}