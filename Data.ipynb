{
  "nbformat": 4,
  "nbformat_minor": 0,
  "metadata": {
    "colab": {
      "name": "Data.ipynb",
      "version": "0.3.2",
      "provenance": []
    },
    "kernelspec": {
      "name": "python3",
      "display_name": "Python 3"
    },
    "accelerator": "GPU"
  },
  "cells": [
    {
      "metadata": {
        "id": "FZMV-ETlHc-c",
        "colab_type": "code",
        "outputId": "fe447c14-5aaa-4580-b432-0d16bb8a0066",
        "colab": {
          "base_uri": "https://localhost:8080/",
          "height": 138
        }
      },
      "cell_type": "code",
      "source": [
        "from google.colab import drive\n",
        "drive.mount('/content/drive')\n",
        "%cd /content/drive/My\\ Drive/School/Year\\ 4/Winter/CS\\ 175/Final Project/"
      ],
      "execution_count": 1,
      "outputs": [
        {
          "output_type": "stream",
          "text": [
            "Go to this URL in a browser: https://accounts.google.com/o/oauth2/auth?client_id=947318989803-6bn6qk8qdgf4n4g3pfee6491hc0brc4i.apps.googleusercontent.com&redirect_uri=urn%3Aietf%3Awg%3Aoauth%3A2.0%3Aoob&scope=email%20https%3A%2F%2Fwww.googleapis.com%2Fauth%2Fdocs.test%20https%3A%2F%2Fwww.googleapis.com%2Fauth%2Fdrive%20https%3A%2F%2Fwww.googleapis.com%2Fauth%2Fdrive.photos.readonly%20https%3A%2F%2Fwww.googleapis.com%2Fauth%2Fpeopleapi.readonly&response_type=code\n",
            "\n",
            "Enter your authorization code:\n",
            "··········\n",
            "Mounted at /content/drive\n",
            "/content/drive/My Drive/School/Year 4/Winter/CS 175/Final Project\n"
          ],
          "name": "stdout"
        }
      ]
    },
    {
      "metadata": {
        "id": "T4XthQnNQa2P",
        "colab_type": "code",
        "colab": {}
      },
      "cell_type": "code",
      "source": [
        "import torch\n",
        "import torch.nn as nn\n",
        "import torch.optim as optim\n",
        "from torch.autograd import Variable\n",
        "from torch.utils.data import Dataset\n",
        "from torch.utils.data import DataLoader\n",
        "from torch.utils.data import sampler\n",
        "\n",
        "import torchvision.datasets as dset\n",
        "import torchvision.transforms as T\n",
        "\n",
        "import numpy as np\n",
        "import io\n",
        "import os\n",
        "import timeit\n"
      ],
      "execution_count": 0,
      "outputs": []
    },
    {
      "metadata": {
        "id": "_swBO2jyNfdt",
        "colab_type": "code",
        "colab": {
          "base_uri": "https://localhost:8080/",
          "height": 34
        },
        "outputId": "e5a24321-25fe-49c1-9924-93cf19402ca5"
      },
      "cell_type": "code",
      "source": [
        "os.listdir('./data/hands_dataset')"
      ],
      "execution_count": 4,
      "outputs": [
        {
          "output_type": "execute_result",
          "data": {
            "text/plain": [
              "['batch_0', 'batch_2', 'batch_1', 'batch_4', 'batch_3']"
            ]
          },
          "metadata": {
            "tags": []
          },
          "execution_count": 4
        }
      ]
    },
    {
      "metadata": {
        "id": "e-8L0QOVHUZB",
        "colab_type": "code",
        "colab": {}
      },
      "cell_type": "code",
      "source": [
        "class HandClassifyDataset(torch.utils.data.Dataset):\n",
        "  def __init__(self, rootdir):\n",
        "    self.rootdir = rootdir\n",
        "    self.handsdir = rootdir+'hands_dataset/'\n",
        "    self.nohandsdir = rootdir + 'nohands_dataset/'\n",
        "    \n",
        "  def __len__(self):\n",
        "    return self._handsLen() + self._nohandsLen()\n",
        "  \n",
        "  def _handsLen(self):\n",
        "    result = 0\n",
        "    for batch in os.listdir(self.handsdir):\n",
        "      result += len(os.listdir(self.handsdir+batch))\n",
        "    return result\n",
        "  def _nohandsLen(self):\n",
        "    result = 0\n",
        "    for batch in os.listdir(self.nohandsdir):\n",
        "      result += len(os.listdir(self.handsdir+batch))\n",
        "    return result\n",
        "  \n",
        "  def __getitem__(self, idx):\n",
        "    if idx < self._handsLen:\n",
        "      for batch in os.listdir(self.handsdir):\n",
        "        imfs = os.listdir(self.handsdir+batch)\n",
        "        if idx < len(imfs):\n",
        "          file = imfs[idx]\n",
        "          break\n",
        "        else:\n",
        "          idx = idx-len(imfs)\n",
        "      im = io.imread(file)\n",
        "      sample = {\"image\": image, \"hand\": 1}\n",
        "    else:\n",
        "      idx = idx-self._handsLen\n",
        "      for batch in os.listdir(self.nohandsdir):\n",
        "        imfs = os.listdir(self.nohandsdir+batch)\n",
        "        if idx < len(imfs):\n",
        "          file = imfs[idx]\n",
        "          break\n",
        "        else:\n",
        "          idx = idx-len(imfs)\n",
        "      im = io.imread(file)\n",
        "      sample = {\"image\": image, \"hand\": 0}\n",
        "    return ToTensor(sample)\n",
        "      \n",
        "    "
      ],
      "execution_count": 0,
      "outputs": []
    },
    {
      "metadata": {
        "id": "OvX3ThXQVFQF",
        "colab_type": "code",
        "colab": {}
      },
      "cell_type": "code",
      "source": [
        "hands_dataset = HandClassifyDataset(rootdir='./data/')\n",
        "\n"
      ],
      "execution_count": 0,
      "outputs": []
    },
    {
      "metadata": {
        "id": "h4Pa5Lm7dQHe",
        "colab_type": "code",
        "colab": {}
      },
      "cell_type": "code",
      "source": [
        "handData = DataLoader(hands_dataset, batch_size=4,\n",
        "                        shuffle=True, num_workers=4)"
      ],
      "execution_count": 0,
      "outputs": []
    }
  ]
}